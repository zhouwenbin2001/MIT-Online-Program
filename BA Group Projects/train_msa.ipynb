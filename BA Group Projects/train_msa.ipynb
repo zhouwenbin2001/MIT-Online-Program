{
 "cells": [
  {
   "cell_type": "code",
   "execution_count": 1,
   "metadata": {
    "ExecuteTime": {
     "end_time": "2021-08-27T11:39:48.158128Z",
     "start_time": "2021-08-27T11:39:44.728051Z"
    }
   },
   "outputs": [],
   "source": [
    "import pandas as pd\n",
    "import numpy as np\n",
    "import matplotlib.pyplot as plt\n",
    "from sklearn.linear_model import LogisticRegression\n",
    "from sklearn.neighbors import KNeighborsClassifier\n",
    "from sklearn.tree import DecisionTreeClassifier\n",
    "from sklearn.ensemble import RandomForestClassifier\n",
    "from sklearn.preprocessing import StandardScaler\n",
    "from sklearn.metrics import classification_report\n",
    "from sklearn.feature_selection import SelectKBest\n",
    "from sklearn.feature_selection import chi2\n",
    "from tqdm import trange\n",
    "import warnings\n",
    "warnings.filterwarnings(\"ignore\")\n",
    "%matplotlib inline"
   ]
  },
  {
   "cell_type": "markdown",
   "metadata": {},
   "source": [
    "## 1、DataCleaning"
   ]
  },
  {
   "cell_type": "code",
   "execution_count": 48,
   "metadata": {
    "ExecuteTime": {
     "end_time": "2021-08-27T12:40:12.715399Z",
     "start_time": "2021-08-27T12:40:11.026820Z"
    }
   },
   "outputs": [],
   "source": [
    "training_data_msa = pd.read_csv(\"data_msa.csv\")\n",
    "test_data_msa = pd.read_csv(\"data_msa_test.csv\")\n",
    "training_data_nmsa = pd.read_csv(\"data_nmsa.csv\")\n",
    "test_data_nmsa = pd.read_csv(\"data_nmsa_test.csv\")"
   ]
  },
  {
   "cell_type": "code",
   "execution_count": 49,
   "metadata": {
    "ExecuteTime": {
     "end_time": "2021-08-27T12:40:12.762234Z",
     "start_time": "2021-08-27T12:40:12.718351Z"
    }
   },
   "outputs": [
    {
     "data": {
      "text/html": [
       "<div>\n",
       "<style scoped>\n",
       "    .dataframe tbody tr th:only-of-type {\n",
       "        vertical-align: middle;\n",
       "    }\n",
       "\n",
       "    .dataframe tbody tr th {\n",
       "        vertical-align: top;\n",
       "    }\n",
       "\n",
       "    .dataframe thead th {\n",
       "        text-align: right;\n",
       "    }\n",
       "</style>\n",
       "<table border=\"1\" class=\"dataframe\">\n",
       "  <thead>\n",
       "    <tr style=\"text-align: right;\">\n",
       "      <th></th>\n",
       "      <th>source</th>\n",
       "      <th>loan_id</th>\n",
       "      <th>Year_orig</th>\n",
       "      <th>Quarter_orig</th>\n",
       "      <th>delinquent30</th>\n",
       "      <th>frst_dte</th>\n",
       "      <th>orig_rt</th>\n",
       "      <th>orig_amt</th>\n",
       "      <th>oltv</th>\n",
       "      <th>ocltv</th>\n",
       "      <th>...</th>\n",
       "      <th>seller</th>\n",
       "      <th>month</th>\n",
       "      <th>weekly_income_msa</th>\n",
       "      <th>unemployment_rate_msa</th>\n",
       "      <th>unemployment_rate</th>\n",
       "      <th>HPI_msa</th>\n",
       "      <th>HPI_state</th>\n",
       "      <th>FRM30_rate</th>\n",
       "      <th>treasury_3mon_rate</th>\n",
       "      <th>weekly_income</th>\n",
       "    </tr>\n",
       "  </thead>\n",
       "  <tbody>\n",
       "    <tr>\n",
       "      <th>0</th>\n",
       "      <td>FD</td>\n",
       "      <td>F100Q1023070</td>\n",
       "      <td>2000</td>\n",
       "      <td>1</td>\n",
       "      <td>0</td>\n",
       "      <td>2000-04-01</td>\n",
       "      <td>8.500</td>\n",
       "      <td>204000</td>\n",
       "      <td>79</td>\n",
       "      <td>79</td>\n",
       "      <td>...</td>\n",
       "      <td>COUNTRYWIDE</td>\n",
       "      <td>4</td>\n",
       "      <td>691.0</td>\n",
       "      <td>5.7</td>\n",
       "      <td>6.7</td>\n",
       "      <td>118.26</td>\n",
       "      <td>169.95</td>\n",
       "      <td>8.1525</td>\n",
       "      <td>5.66</td>\n",
       "      <td>674.0</td>\n",
       "    </tr>\n",
       "    <tr>\n",
       "      <th>1</th>\n",
       "      <td>FD</td>\n",
       "      <td>F100Q1050054</td>\n",
       "      <td>2000</td>\n",
       "      <td>1</td>\n",
       "      <td>0</td>\n",
       "      <td>2000-03-01</td>\n",
       "      <td>8.500</td>\n",
       "      <td>173000</td>\n",
       "      <td>95</td>\n",
       "      <td>95</td>\n",
       "      <td>...</td>\n",
       "      <td>NORWESTMORTGAGE,INC</td>\n",
       "      <td>3</td>\n",
       "      <td>691.0</td>\n",
       "      <td>6.1</td>\n",
       "      <td>7.2</td>\n",
       "      <td>118.26</td>\n",
       "      <td>169.95</td>\n",
       "      <td>8.2400</td>\n",
       "      <td>5.69</td>\n",
       "      <td>674.0</td>\n",
       "    </tr>\n",
       "    <tr>\n",
       "      <th>2</th>\n",
       "      <td>FD</td>\n",
       "      <td>F100Q1005553</td>\n",
       "      <td>2000</td>\n",
       "      <td>1</td>\n",
       "      <td>0</td>\n",
       "      <td>2000-03-01</td>\n",
       "      <td>8.250</td>\n",
       "      <td>92000</td>\n",
       "      <td>95</td>\n",
       "      <td>95</td>\n",
       "      <td>...</td>\n",
       "      <td>Other sellers</td>\n",
       "      <td>3</td>\n",
       "      <td>633.0</td>\n",
       "      <td>3.8</td>\n",
       "      <td>4.5</td>\n",
       "      <td>122.36</td>\n",
       "      <td>209.11</td>\n",
       "      <td>8.2400</td>\n",
       "      <td>5.69</td>\n",
       "      <td>555.0</td>\n",
       "    </tr>\n",
       "    <tr>\n",
       "      <th>3</th>\n",
       "      <td>FD</td>\n",
       "      <td>F100Q1009498</td>\n",
       "      <td>2000</td>\n",
       "      <td>1</td>\n",
       "      <td>1</td>\n",
       "      <td>2000-03-01</td>\n",
       "      <td>8.125</td>\n",
       "      <td>112000</td>\n",
       "      <td>80</td>\n",
       "      <td>80</td>\n",
       "      <td>...</td>\n",
       "      <td>Other sellers</td>\n",
       "      <td>3</td>\n",
       "      <td>633.0</td>\n",
       "      <td>3.8</td>\n",
       "      <td>4.5</td>\n",
       "      <td>122.36</td>\n",
       "      <td>209.11</td>\n",
       "      <td>8.2400</td>\n",
       "      <td>5.69</td>\n",
       "      <td>555.0</td>\n",
       "    </tr>\n",
       "    <tr>\n",
       "      <th>4</th>\n",
       "      <td>FD</td>\n",
       "      <td>F100Q1009604</td>\n",
       "      <td>2000</td>\n",
       "      <td>1</td>\n",
       "      <td>1</td>\n",
       "      <td>2000-04-01</td>\n",
       "      <td>9.500</td>\n",
       "      <td>84000</td>\n",
       "      <td>95</td>\n",
       "      <td>95</td>\n",
       "      <td>...</td>\n",
       "      <td>Other sellers</td>\n",
       "      <td>4</td>\n",
       "      <td>486.0</td>\n",
       "      <td>4.0</td>\n",
       "      <td>3.8</td>\n",
       "      <td>128.05</td>\n",
       "      <td>209.11</td>\n",
       "      <td>8.1525</td>\n",
       "      <td>5.66</td>\n",
       "      <td>555.0</td>\n",
       "    </tr>\n",
       "  </tbody>\n",
       "</table>\n",
       "<p>5 rows × 32 columns</p>\n",
       "</div>"
      ],
      "text/plain": [
       "  source       loan_id  Year_orig  Quarter_orig  delinquent30    frst_dte  \\\n",
       "0     FD  F100Q1023070       2000             1             0  2000-04-01   \n",
       "1     FD  F100Q1050054       2000             1             0  2000-03-01   \n",
       "2     FD  F100Q1005553       2000             1             0  2000-03-01   \n",
       "3     FD  F100Q1009498       2000             1             1  2000-03-01   \n",
       "4     FD  F100Q1009604       2000             1             1  2000-04-01   \n",
       "\n",
       "   orig_rt  orig_amt  oltv  ocltv  ...               seller  month  \\\n",
       "0    8.500    204000    79     79  ...          COUNTRYWIDE      4   \n",
       "1    8.500    173000    95     95  ...  NORWESTMORTGAGE,INC      3   \n",
       "2    8.250     92000    95     95  ...        Other sellers      3   \n",
       "3    8.125    112000    80     80  ...        Other sellers      3   \n",
       "4    9.500     84000    95     95  ...        Other sellers      4   \n",
       "\n",
       "   weekly_income_msa  unemployment_rate_msa  unemployment_rate  HPI_msa  \\\n",
       "0              691.0                    5.7                6.7   118.26   \n",
       "1              691.0                    6.1                7.2   118.26   \n",
       "2              633.0                    3.8                4.5   122.36   \n",
       "3              633.0                    3.8                4.5   122.36   \n",
       "4              486.0                    4.0                3.8   128.05   \n",
       "\n",
       "  HPI_state  FRM30_rate  treasury_3mon_rate  weekly_income  \n",
       "0    169.95      8.1525                5.66          674.0  \n",
       "1    169.95      8.2400                5.69          674.0  \n",
       "2    209.11      8.2400                5.69          555.0  \n",
       "3    209.11      8.2400                5.69          555.0  \n",
       "4    209.11      8.1525                5.66          555.0  \n",
       "\n",
       "[5 rows x 32 columns]"
      ]
     },
     "execution_count": 49,
     "metadata": {},
     "output_type": "execute_result"
    }
   ],
   "source": [
    "training_data_msa.head()"
   ]
  },
  {
   "cell_type": "code",
   "execution_count": 50,
   "metadata": {
    "ExecuteTime": {
     "end_time": "2021-08-27T12:40:12.777193Z",
     "start_time": "2021-08-27T12:40:12.767220Z"
    }
   },
   "outputs": [
    {
     "data": {
      "text/plain": [
       "Index(['source', 'loan_id', 'Year_orig', 'Quarter_orig', 'delinquent30',\n",
       "       'frst_dte', 'orig_rt', 'orig_amt', 'oltv', 'ocltv', 'dti', 'cscore_b',\n",
       "       'mi_pct', 'fthb_flg', 'num_bo', 'num_unit', 'state', 'cd_msa',\n",
       "       'delinquent60', 'delinquent90', 'foreclosure', 'prepaid_cnt', 'seller',\n",
       "       'month', 'weekly_income_msa', 'unemployment_rate_msa',\n",
       "       'unemployment_rate', 'HPI_msa', 'HPI_state', 'FRM30_rate',\n",
       "       'treasury_3mon_rate', 'weekly_income'],\n",
       "      dtype='object')"
      ]
     },
     "execution_count": 50,
     "metadata": {},
     "output_type": "execute_result"
    }
   ],
   "source": [
    "training_data_msa.columns"
   ]
  },
  {
   "cell_type": "code",
   "execution_count": 51,
   "metadata": {
    "ExecuteTime": {
     "end_time": "2021-08-27T12:40:12.838034Z",
     "start_time": "2021-08-27T12:40:12.781183Z"
    }
   },
   "outputs": [
    {
     "data": {
      "text/html": [
       "<div>\n",
       "<style scoped>\n",
       "    .dataframe tbody tr th:only-of-type {\n",
       "        vertical-align: middle;\n",
       "    }\n",
       "\n",
       "    .dataframe tbody tr th {\n",
       "        vertical-align: top;\n",
       "    }\n",
       "\n",
       "    .dataframe thead th {\n",
       "        text-align: right;\n",
       "    }\n",
       "</style>\n",
       "<table border=\"1\" class=\"dataframe\">\n",
       "  <thead>\n",
       "    <tr style=\"text-align: right;\">\n",
       "      <th></th>\n",
       "      <th>source</th>\n",
       "      <th>loan_id</th>\n",
       "      <th>Year_orig</th>\n",
       "      <th>Quarter_orig</th>\n",
       "      <th>delinquent30</th>\n",
       "      <th>frst_dte</th>\n",
       "      <th>orig_rt</th>\n",
       "      <th>orig_amt</th>\n",
       "      <th>oltv</th>\n",
       "      <th>ocltv</th>\n",
       "      <th>...</th>\n",
       "      <th>delinquent90</th>\n",
       "      <th>foreclosure</th>\n",
       "      <th>prepaid_cnt</th>\n",
       "      <th>seller</th>\n",
       "      <th>month</th>\n",
       "      <th>unemployment_rate</th>\n",
       "      <th>HPI_state</th>\n",
       "      <th>FRM30_rate</th>\n",
       "      <th>treasury_3mon_rate</th>\n",
       "      <th>weekly_income</th>\n",
       "    </tr>\n",
       "  </thead>\n",
       "  <tbody>\n",
       "    <tr>\n",
       "      <th>0</th>\n",
       "      <td>FD</td>\n",
       "      <td>F100Q1039162</td>\n",
       "      <td>2000</td>\n",
       "      <td>1</td>\n",
       "      <td>0</td>\n",
       "      <td>2000-05-01</td>\n",
       "      <td>8.375</td>\n",
       "      <td>100000</td>\n",
       "      <td>34</td>\n",
       "      <td>34</td>\n",
       "      <td>...</td>\n",
       "      <td>0</td>\n",
       "      <td>0</td>\n",
       "      <td>1</td>\n",
       "      <td>NORWESTMORTGAGE,INC</td>\n",
       "      <td>5</td>\n",
       "      <td>6.4</td>\n",
       "      <td>169.95</td>\n",
       "      <td>8.5150</td>\n",
       "      <td>5.79</td>\n",
       "      <td>674.0</td>\n",
       "    </tr>\n",
       "    <tr>\n",
       "      <th>1</th>\n",
       "      <td>FD</td>\n",
       "      <td>F100Q1002153</td>\n",
       "      <td>2000</td>\n",
       "      <td>1</td>\n",
       "      <td>0</td>\n",
       "      <td>2000-03-01</td>\n",
       "      <td>8.125</td>\n",
       "      <td>137000</td>\n",
       "      <td>80</td>\n",
       "      <td>80</td>\n",
       "      <td>...</td>\n",
       "      <td>0</td>\n",
       "      <td>0</td>\n",
       "      <td>1</td>\n",
       "      <td>NORWESTMORTGAGE,INC</td>\n",
       "      <td>3</td>\n",
       "      <td>4.5</td>\n",
       "      <td>209.11</td>\n",
       "      <td>8.2400</td>\n",
       "      <td>5.69</td>\n",
       "      <td>555.0</td>\n",
       "    </tr>\n",
       "    <tr>\n",
       "      <th>2</th>\n",
       "      <td>FD</td>\n",
       "      <td>F100Q1010264</td>\n",
       "      <td>2000</td>\n",
       "      <td>1</td>\n",
       "      <td>0</td>\n",
       "      <td>2000-04-01</td>\n",
       "      <td>8.750</td>\n",
       "      <td>100000</td>\n",
       "      <td>97</td>\n",
       "      <td>97</td>\n",
       "      <td>...</td>\n",
       "      <td>0</td>\n",
       "      <td>0</td>\n",
       "      <td>1</td>\n",
       "      <td>Other sellers</td>\n",
       "      <td>4</td>\n",
       "      <td>3.8</td>\n",
       "      <td>209.11</td>\n",
       "      <td>8.1525</td>\n",
       "      <td>5.66</td>\n",
       "      <td>555.0</td>\n",
       "    </tr>\n",
       "    <tr>\n",
       "      <th>3</th>\n",
       "      <td>FD</td>\n",
       "      <td>F100Q1013230</td>\n",
       "      <td>2000</td>\n",
       "      <td>1</td>\n",
       "      <td>0</td>\n",
       "      <td>2000-03-01</td>\n",
       "      <td>7.625</td>\n",
       "      <td>174000</td>\n",
       "      <td>87</td>\n",
       "      <td>87</td>\n",
       "      <td>...</td>\n",
       "      <td>0</td>\n",
       "      <td>0</td>\n",
       "      <td>0</td>\n",
       "      <td>NORWESTMORTGAGE,INC</td>\n",
       "      <td>3</td>\n",
       "      <td>4.5</td>\n",
       "      <td>209.11</td>\n",
       "      <td>8.2400</td>\n",
       "      <td>5.69</td>\n",
       "      <td>555.0</td>\n",
       "    </tr>\n",
       "    <tr>\n",
       "      <th>4</th>\n",
       "      <td>FD</td>\n",
       "      <td>F100Q1022057</td>\n",
       "      <td>2000</td>\n",
       "      <td>1</td>\n",
       "      <td>0</td>\n",
       "      <td>2000-03-01</td>\n",
       "      <td>8.000</td>\n",
       "      <td>100000</td>\n",
       "      <td>64</td>\n",
       "      <td>64</td>\n",
       "      <td>...</td>\n",
       "      <td>0</td>\n",
       "      <td>0</td>\n",
       "      <td>1</td>\n",
       "      <td>COUNTRYWIDE</td>\n",
       "      <td>3</td>\n",
       "      <td>4.5</td>\n",
       "      <td>209.11</td>\n",
       "      <td>8.2400</td>\n",
       "      <td>5.69</td>\n",
       "      <td>555.0</td>\n",
       "    </tr>\n",
       "  </tbody>\n",
       "</table>\n",
       "<p>5 rows × 29 columns</p>\n",
       "</div>"
      ],
      "text/plain": [
       "  source       loan_id  Year_orig  Quarter_orig  delinquent30    frst_dte  \\\n",
       "0     FD  F100Q1039162       2000             1             0  2000-05-01   \n",
       "1     FD  F100Q1002153       2000             1             0  2000-03-01   \n",
       "2     FD  F100Q1010264       2000             1             0  2000-04-01   \n",
       "3     FD  F100Q1013230       2000             1             0  2000-03-01   \n",
       "4     FD  F100Q1022057       2000             1             0  2000-03-01   \n",
       "\n",
       "   orig_rt  orig_amt  oltv  ocltv  ...  delinquent90  foreclosure  \\\n",
       "0    8.375    100000    34     34  ...             0            0   \n",
       "1    8.125    137000    80     80  ...             0            0   \n",
       "2    8.750    100000    97     97  ...             0            0   \n",
       "3    7.625    174000    87     87  ...             0            0   \n",
       "4    8.000    100000    64     64  ...             0            0   \n",
       "\n",
       "   prepaid_cnt               seller  month  unemployment_rate HPI_state  \\\n",
       "0            1  NORWESTMORTGAGE,INC      5                6.4    169.95   \n",
       "1            1  NORWESTMORTGAGE,INC      3                4.5    209.11   \n",
       "2            1        Other sellers      4                3.8    209.11   \n",
       "3            0  NORWESTMORTGAGE,INC      3                4.5    209.11   \n",
       "4            1          COUNTRYWIDE      3                4.5    209.11   \n",
       "\n",
       "   FRM30_rate  treasury_3mon_rate  weekly_income  \n",
       "0      8.5150                5.79          674.0  \n",
       "1      8.2400                5.69          555.0  \n",
       "2      8.1525                5.66          555.0  \n",
       "3      8.2400                5.69          555.0  \n",
       "4      8.2400                5.69          555.0  \n",
       "\n",
       "[5 rows x 29 columns]"
      ]
     },
     "execution_count": 51,
     "metadata": {},
     "output_type": "execute_result"
    }
   ],
   "source": [
    "training_data_nmsa.head()"
   ]
  },
  {
   "cell_type": "code",
   "execution_count": 52,
   "metadata": {
    "ExecuteTime": {
     "end_time": "2021-08-27T12:40:12.869946Z",
     "start_time": "2021-08-27T12:40:12.842021Z"
    }
   },
   "outputs": [],
   "source": [
    "selected_columns_nmsa = ['source','Quarter_orig','orig_rt' ,'orig_amt',  'oltv' , 'ocltv' , 'dti' , 'cscore_b' , 'mi_pct'  , 'num_bo' ,\\\n",
    "          'num_unit' ,'fthb_flg', 'FRM30_rate','treasury_3mon_rate','weekly_income','foreclosure', 'prepaid_cnt', 'unemployment_rate','delinquent30'] "
   ]
  },
  {
   "cell_type": "code",
   "execution_count": 53,
   "metadata": {
    "ExecuteTime": {
     "end_time": "2021-08-27T12:40:12.900863Z",
     "start_time": "2021-08-27T12:40:12.873938Z"
    }
   },
   "outputs": [],
   "source": [
    "selected_columns_msa = selected_columns_nmsa + [\"weekly_income_msa\", \"HPI_msa\", \"unemployment_rate_msa\"]"
   ]
  },
  {
   "cell_type": "code",
   "execution_count": 54,
   "metadata": {
    "ExecuteTime": {
     "end_time": "2021-08-27T12:40:12.964693Z",
     "start_time": "2021-08-27T12:40:12.905851Z"
    }
   },
   "outputs": [],
   "source": [
    "training_data_msa = training_data_msa.reindex(columns=selected_columns_msa)\n",
    "test_data_msa = test_data_msa.reindex(columns=selected_columns_msa)\n",
    "training_data_nmsa = training_data_nmsa.reindex(columns=selected_columns_nmsa)\n",
    "test_data_nmsa = test_data_nmsa.reindex(columns=selected_columns_nmsa)"
   ]
  },
  {
   "cell_type": "code",
   "execution_count": 55,
   "metadata": {
    "ExecuteTime": {
     "end_time": "2021-08-27T12:40:13.104320Z",
     "start_time": "2021-08-27T12:40:12.968683Z"
    }
   },
   "outputs": [
    {
     "data": {
      "text/plain": [
       "(0, 0, 0, 0)"
      ]
     },
     "execution_count": 55,
     "metadata": {},
     "output_type": "execute_result"
    }
   ],
   "source": [
    "training_data_msa = training_data_msa.fillna(method='ffill')\n",
    "test_data_msa = test_data_msa.fillna(method='ffill')\n",
    "training_data_nmsa = training_data_nmsa.fillna(method='ffill')\n",
    "test_data_nmsa = test_data_nmsa.fillna(method='ffill')\n",
    "sum(training_data_msa.isnull().any()), sum(test_data_msa.isnull().any()),sum(training_data_nmsa.isnull().any()), sum(test_data_nmsa.isnull().any())"
   ]
  },
  {
   "cell_type": "code",
   "execution_count": 56,
   "metadata": {
    "ExecuteTime": {
     "end_time": "2021-08-27T12:40:13.352655Z",
     "start_time": "2021-08-27T12:40:13.109305Z"
    }
   },
   "outputs": [],
   "source": [
    "training_data_msa = pd.get_dummies(training_data_msa)\n",
    "test_data_msa = pd.get_dummies(test_data_msa)\n",
    "training_data_nmsa = pd.get_dummies(training_data_nmsa)\n",
    "test_data_nmsa = pd.get_dummies(test_data_nmsa)\n",
    "\n",
    "training_data_msa = pd.DataFrame(training_data_msa, dtype=np.float32)\n",
    "test_data_msa = pd.DataFrame(test_data_msa, dtype=np.float32)\n",
    "training_data_nmsa = pd.DataFrame(training_data_nmsa, dtype=np.float32)\n",
    "test_data_nmsa = pd.DataFrame(test_data_nmsa, dtype=np.float32)"
   ]
  },
  {
   "cell_type": "markdown",
   "metadata": {},
   "source": [
    "## 2、Utils"
   ]
  },
  {
   "cell_type": "code",
   "execution_count": 57,
   "metadata": {
    "ExecuteTime": {
     "end_time": "2021-08-27T12:40:14.058863Z",
     "start_time": "2021-08-27T12:40:14.043904Z"
    }
   },
   "outputs": [],
   "source": [
    "features_msa = list(training_data_msa.columns)\n",
    "features_msa.remove(\"delinquent30\")\n",
    "features_nmsa = list(training_data_nmsa.columns)\n",
    "features_nmsa.remove(\"delinquent30\")\n",
    "label = \"delinquent30\""
   ]
  },
  {
   "cell_type": "code",
   "execution_count": 58,
   "metadata": {
    "ExecuteTime": {
     "end_time": "2021-08-27T12:40:14.277313Z",
     "start_time": "2021-08-27T12:40:14.208461Z"
    }
   },
   "outputs": [],
   "source": [
    "X_train_msa = training_data_msa[features_msa].values\n",
    "y_train_msa = training_data_msa[label].values\n",
    "X_test_msa = test_data_msa[features_msa].values\n",
    "y_test_msa = test_data_msa[label].values\n",
    "\n",
    "X_train_nmsa = training_data_msa[features_nmsa].values\n",
    "y_train_nmsa = training_data_msa[label].values\n",
    "X_test_nmsa = test_data_nmsa[features_nmsa].values\n",
    "y_test_nmsa = test_data_nmsa[label].values"
   ]
  },
  {
   "cell_type": "code",
   "execution_count": 59,
   "metadata": {
    "ExecuteTime": {
     "end_time": "2021-08-27T12:40:14.372024Z",
     "start_time": "2021-08-27T12:40:14.352076Z"
    }
   },
   "outputs": [
    {
     "name": "stdout",
     "output_type": "stream",
     "text": [
      "(247274, 22) (247274,) (38597, 22) (38597,)\n",
      "(247274, 19) (247274,) (6915, 19) (6915,)\n"
     ]
    }
   ],
   "source": [
    "print(X_train_msa.shape, y_train_msa.shape, X_test_msa.shape, y_test_msa.shape)\n",
    "print(X_train_nmsa.shape, y_train_nmsa.shape, X_test_nmsa.shape, y_test_nmsa.shape)"
   ]
  },
  {
   "cell_type": "code",
   "execution_count": 60,
   "metadata": {
    "ExecuteTime": {
     "end_time": "2021-08-27T12:40:14.821771Z",
     "start_time": "2021-08-27T12:40:14.527117Z"
    }
   },
   "outputs": [],
   "source": [
    "sc=StandardScaler()\n",
    "X_train_msa_sc = sc.fit_transform(X_train_msa)\n",
    "X_test_msa_sc = sc.transform(X_test_msa)\n",
    "X_train_nmsa_sc = sc.fit_transform(X_train_nmsa)\n",
    "X_test_nmsa_sc = sc.transform(X_test_nmsa)"
   ]
  },
  {
   "cell_type": "code",
   "execution_count": 85,
   "metadata": {
    "ExecuteTime": {
     "end_time": "2021-08-27T13:04:47.279622Z",
     "start_time": "2021-08-27T13:04:46.834147Z"
    }
   },
   "outputs": [],
   "source": [
    "selector = SelectKBest(chi2, k=13)\n",
    "selector.fit(X_train_msa, y_train_msa)\n",
    "X_train_msa_select = selector.transform(X_train_msa)\n",
    "X_test_msa_select = selector.transform(X_test_msa)\n",
    "\n",
    "X_train_msa_sc_select = sc.fit_transform(X_train_msa_select)\n",
    "X_test_msa_sc_select = sc.transform(X_test_msa_select)\n",
    "\n",
    "selector = SelectKBest(chi2, k=13)\n",
    "selector.fit(X_train_nmsa, y_train_nmsa)\n",
    "X_train_nmsa_select = selector.transform(X_train_nmsa)\n",
    "X_test_nmsa_select = selector.transform(X_test_nmsa)\n",
    "\n",
    "X_train_nmsa_sc_select = sc.fit_transform(X_train_nmsa_select)\n",
    "X_test_nmsa_sc_select = sc.transform(X_test_nmsa_select)"
   ]
  },
  {
   "cell_type": "code",
   "execution_count": 86,
   "metadata": {
    "ExecuteTime": {
     "end_time": "2021-08-27T13:04:52.860084Z",
     "start_time": "2021-08-27T13:04:52.840138Z"
    }
   },
   "outputs": [],
   "source": [
    "def compare(y_pred,y):\n",
    "    \"\"\"\n",
    "    calculate the number of tp, fp, fn, tn of prediction\n",
    "    \"\"\"\n",
    "    tp = np.sum((y_pred==True)&(y==1))\n",
    "    fp = np.sum((y_pred==True)&(y==0))\n",
    "    fn = np.sum((y_pred==False)&(y==1))\n",
    "    tn = np.sum((y_pred==False)&(y==0))\n",
    "    return tp,fp,fn,tn"
   ]
  },
  {
   "cell_type": "code",
   "execution_count": 87,
   "metadata": {
    "ExecuteTime": {
     "end_time": "2021-08-27T13:04:53.028635Z",
     "start_time": "2021-08-27T13:04:53.017663Z"
    }
   },
   "outputs": [],
   "source": [
    "def cal_net_profit(y_pred, y, test_data):\n",
    "    \"\"\"\n",
    "    calculate the net profit under the prediction of y_pred\n",
    "    \"\"\"\n",
    "    orig_amt = test_data['orig_amt'].values\n",
    "    true_index = np.where(((y==0) & (y_pred==0)) == True)[0]\n",
    "    false_index = np.where(((y==1) & (y_pred==0)) == True)[0]\n",
    "    #print(len(true_index), len(false_index))\n",
    "    #print(true_index, false_index)\n",
    "    profit = np.sum(orig_amt[true_index] * 0.005)\n",
    "    loss = np.sum(orig_amt[false_index] * 0.2)\n",
    "    return profit - loss"
   ]
  },
  {
   "cell_type": "code",
   "execution_count": 88,
   "metadata": {
    "ExecuteTime": {
     "end_time": "2021-08-27T13:04:53.215135Z",
     "start_time": "2021-08-27T13:04:53.188208Z"
    }
   },
   "outputs": [],
   "source": [
    "ori_net_profit = cal_net_profit(np.array([0]*len(y_test_msa)), y_test_msa, test_data_msa) +\\\n",
    "                cal_net_profit(np.array([0]*len(y_test_nmsa)), y_test_nmsa, test_data_nmsa)"
   ]
  },
  {
   "cell_type": "markdown",
   "metadata": {},
   "source": [
    "# 3、Logistic Regression"
   ]
  },
  {
   "cell_type": "code",
   "execution_count": 89,
   "metadata": {
    "ExecuteTime": {
     "end_time": "2021-08-27T13:04:53.528339Z",
     "start_time": "2021-08-27T13:04:53.516365Z"
    }
   },
   "outputs": [],
   "source": [
    "lr_clf_msa = LogisticRegression(max_iter=200)\n",
    "lr_clf_nmsa = LogisticRegression(max_iter=200)"
   ]
  },
  {
   "cell_type": "code",
   "execution_count": 90,
   "metadata": {
    "ExecuteTime": {
     "end_time": "2021-08-27T13:05:04.509320Z",
     "start_time": "2021-08-27T13:04:53.657314Z"
    }
   },
   "outputs": [
    {
     "name": "stdout",
     "output_type": "stream",
     "text": [
      "              precision    recall  f1-score   support\n",
      "\n",
      "         0.0       0.94      1.00      0.97     36301\n",
      "         1.0       0.00      0.00      0.00      2296\n",
      "\n",
      "    accuracy                           0.94     38597\n",
      "   macro avg       0.47      0.50      0.48     38597\n",
      "weighted avg       0.88      0.94      0.91     38597\n",
      "\n",
      "              precision    recall  f1-score   support\n",
      "\n",
      "         0.0       0.94      1.00      0.97      6501\n",
      "         1.0       0.00      0.00      0.00       414\n",
      "\n",
      "    accuracy                           0.94      6915\n",
      "   macro avg       0.47      0.50      0.48      6915\n",
      "weighted avg       0.88      0.94      0.91      6915\n",
      "\n"
     ]
    }
   ],
   "source": [
    "#未标准化\n",
    "lr_clf_msa.fit(X_train_msa, y_train_msa)\n",
    "result_msa = lr_clf_msa.predict(X_test_msa)\n",
    "lr_clf_nmsa.fit(X_train_nmsa, y_train_nmsa)\n",
    "result_nmsa = lr_clf_nmsa.predict(X_test_nmsa)\n",
    "print(classification_report(y_test_msa,result_msa))\n",
    "print(classification_report(y_test_nmsa,result_nmsa))"
   ]
  },
  {
   "cell_type": "code",
   "execution_count": 91,
   "metadata": {
    "ExecuteTime": {
     "end_time": "2021-08-27T13:05:05.648781Z",
     "start_time": "2021-08-27T13:05:04.513310Z"
    }
   },
   "outputs": [
    {
     "name": "stderr",
     "output_type": "stream",
     "text": [
      "100%|████████████████████████████████████████████████████████████████████████████████| 100/100 [00:01<00:00, 89.89it/s]\n"
     ]
    }
   ],
   "source": [
    "ps = [i/100 for i in range(100)]\n",
    "errors = [] \n",
    "T1s = []\n",
    "T2s = []\n",
    "net_profits = []\n",
    "for i in trange(len(ps)):\n",
    "    p = ps[i]\n",
    "    y_pred_msa = np.where(lr_clf_msa.predict_proba(X_test_msa)[:,1] > p, 1, 0)\n",
    "    y_pred_nmsa = np.where(lr_clf_nmsa.predict_proba(X_test_nmsa)[:,1] > p, 1, 0)\n",
    "    tp_msa,fp_msa,fn_msa,tn_msa = compare(y_pred_msa, y_test_msa)\n",
    "    tp_nmsa,fp_nmsa,fn_nmsa,tn_nmsa = compare(y_pred_nmsa, y_test_nmsa) \n",
    "    net_profit = cal_net_profit(y_pred_msa, y_test_msa, test_data_msa) + cal_net_profit(y_pred_nmsa, y_test_nmsa, test_data_nmsa)\n",
    "    tp = tp_msa + tp_nmsa\n",
    "    fp = fp_msa + fp_nmsa\n",
    "    fn = fn_msa + fn_nmsa\n",
    "    tn = tn_msa + tn_nmsa\n",
    "    error = (fn+fp) / (tp+fp+fn+tn)\n",
    "    T1e = fp/(tn+fp)\n",
    "    T2e = fn/(fn+tp)\n",
    "    errors.append(error)\n",
    "    T1s.append(T1e)\n",
    "    T2s.append(T2e)\n",
    "    net_profits.append(net_profit-ori_net_profit)"
   ]
  },
  {
   "cell_type": "code",
   "execution_count": 92,
   "metadata": {
    "ExecuteTime": {
     "end_time": "2021-08-27T13:05:05.973878Z",
     "start_time": "2021-08-27T13:05:05.653734Z"
    }
   },
   "outputs": [
    {
     "data": {
      "text/plain": [
       "<matplotlib.legend.Legend at 0x198cbddbf40>"
      ]
     },
     "execution_count": 92,
     "metadata": {},
     "output_type": "execute_result"
    },
    {
     "data": {
      "image/png": "[encoded data removed]",
      "text/plain": [
       "<Figure size 432x288 with 1 Axes>"
      ]
     },
     "metadata": {
      "needs_background": "light"
     },
     "output_type": "display_data"
    }
   ],
   "source": [
    "plt.plot(ps,T1s,label='Type1-error')\n",
    "plt.plot(ps,T2s,label='Type2-error')\n",
    "plt.plot(ps,errors,label='error-rate')\n",
    "plt.xlabel(\"threshold\")\n",
    "plt.legend(loc=\"lower right\")"
   ]
  },
  {
   "cell_type": "code",
   "execution_count": 93,
   "metadata": {
    "ExecuteTime": {
     "end_time": "2021-08-27T13:05:06.252133Z",
     "start_time": "2021-08-27T13:05:05.978864Z"
    }
   },
   "outputs": [
    {
     "data": {
      "text/plain": [
       "<matplotlib.legend.Legend at 0x198cbe5d250>"
      ]
     },
     "execution_count": 93,
     "metadata": {},
     "output_type": "execute_result"
    },
    {
     "data": {
      "image/png": "[encoded data removed]",
      "text/plain": [
       "<Figure size 432x288 with 1 Axes>"
      ]
     },
     "metadata": {
      "needs_background": "light"
     },
     "output_type": "display_data"
    }
   ],
   "source": [
    "plt.plot(ps,net_profits, label='net_profit_increase')\n",
    "plt.xlabel(\"threshold\")\n",
    "plt.legend(loc=\"lower right\")"
   ]
  },
  {
   "cell_type": "code",
   "execution_count": 94,
   "metadata": {
    "ExecuteTime": {
     "end_time": "2021-08-27T13:05:06.267094Z",
     "start_time": "2021-08-27T13:05:06.255124Z"
    }
   },
   "outputs": [
    {
     "data": {
      "text/plain": [
       "(0.03, 60046064.0)"
      ]
     },
     "execution_count": 94,
     "metadata": {},
     "output_type": "execute_result"
    }
   ],
   "source": [
    "ps[np.argmax(net_profits)],net_profits[3]"
   ]
  },
  {
   "cell_type": "code",
   "execution_count": 95,
   "metadata": {
    "ExecuteTime": {
     "end_time": "2021-08-27T13:05:08.432972Z",
     "start_time": "2021-08-27T13:05:06.271087Z"
    }
   },
   "outputs": [
    {
     "name": "stdout",
     "output_type": "stream",
     "text": [
      "              precision    recall  f1-score   support\n",
      "\n",
      "         0.0       0.94      1.00      0.97     36301\n",
      "         1.0       1.00      0.05      0.09      2296\n",
      "\n",
      "    accuracy                           0.94     38597\n",
      "   macro avg       0.97      0.52      0.53     38597\n",
      "weighted avg       0.95      0.94      0.92     38597\n",
      "\n",
      "              precision    recall  f1-score   support\n",
      "\n",
      "         0.0       0.94      1.00      0.97      6501\n",
      "         1.0       1.00      0.08      0.15       414\n",
      "\n",
      "    accuracy                           0.95      6915\n",
      "   macro avg       0.97      0.54      0.56      6915\n",
      "weighted avg       0.95      0.95      0.92      6915\n",
      "\n"
     ]
    }
   ],
   "source": [
    "#标准化\n",
    "lr_clf_msa.fit(X_train_msa_sc, y_train_msa)\n",
    "result_msa = lr_clf_msa.predict(X_test_msa_sc)\n",
    "lr_clf_nmsa.fit(X_train_nmsa_sc, y_train_nmsa)\n",
    "result_nmsa = lr_clf_nmsa.predict(X_test_nmsa_sc)\n",
    "print(classification_report(y_test_msa,result_msa))\n",
    "print(classification_report(y_test_nmsa,result_nmsa))"
   ]
  },
  {
   "cell_type": "code",
   "execution_count": 96,
   "metadata": {
    "ExecuteTime": {
     "end_time": "2021-08-27T13:05:09.595888Z",
     "start_time": "2021-08-27T13:05:08.436960Z"
    }
   },
   "outputs": [
    {
     "name": "stderr",
     "output_type": "stream",
     "text": [
      "100%|████████████████████████████████████████████████████████████████████████████████| 100/100 [00:01<00:00, 88.57it/s]\n"
     ]
    }
   ],
   "source": [
    "ps = [i/100 for i in range(100)]\n",
    "errors = [] \n",
    "T1s = []\n",
    "T2s = []\n",
    "net_profits = []\n",
    "for i in trange(len(ps)):\n",
    "    p = ps[i]\n",
    "    y_pred_msa = np.where(lr_clf_msa.predict_proba(X_test_msa_sc)[:,1] > p, 1, 0)\n",
    "    y_pred_nmsa = np.where(lr_clf_nmsa.predict_proba(X_test_nmsa_sc)[:,1] > p, 1, 0)\n",
    "    tp_msa,fp_msa,fn_msa,tn_msa = compare(y_pred_msa, y_test_msa)\n",
    "    tp_nmsa,fp_nmsa,fn_nmsa,tn_nmsa = compare(y_pred_nmsa, y_test_nmsa) \n",
    "    net_profit = cal_net_profit(y_pred_msa, y_test_msa, test_data_msa) + cal_net_profit(y_pred_nmsa, y_test_nmsa, test_data_nmsa)\n",
    "    tp = tp_msa + tp_nmsa\n",
    "    fp = fp_msa + fp_nmsa\n",
    "    fn = fn_msa + fn_nmsa\n",
    "    tn = tn_msa + tn_nmsa\n",
    "    error = (fn+fp) / (tp+fp+fn+tn)\n",
    "    T1e = fp/(tn+fp)\n",
    "    T2e = fn/(fn+tp)\n",
    "    errors.append(error)\n",
    "    T1s.append(T1e)\n",
    "    T2s.append(T2e)\n",
    "    net_profits.append(net_profit-ori_net_profit)"
   ]
  },
  {
   "cell_type": "code",
   "execution_count": 97,
   "metadata": {
    "ExecuteTime": {
     "end_time": "2021-08-27T13:05:09.921536Z",
     "start_time": "2021-08-27T13:05:09.600876Z"
    }
   },
   "outputs": [
    {
     "data": {
      "text/plain": [
       "<matplotlib.legend.Legend at 0x198cbe4fd90>"
      ]
     },
     "execution_count": 97,
     "metadata": {},
     "output_type": "execute_result"
    },
    {
     "data": {
      "image/png": "[encoded data removed]",
      "text/plain": [
       "<Figure size 432x288 with 1 Axes>"
      ]
     },
     "metadata": {
      "needs_background": "light"
     },
     "output_type": "display_data"
    }
   ],
   "source": [
    "plt.plot(ps,T1s,label='Type1-error')\n",
    "plt.plot(ps,T2s,label='Type2-error')\n",
    "plt.plot(ps,errors,label='error-rate')\n",
    "plt.xlabel(\"threshold\")\n",
    "plt.legend(loc=\"lower right\")"
   ]
  },
  {
   "cell_type": "code",
   "execution_count": 98,
   "metadata": {
    "ExecuteTime": {
     "end_time": "2021-08-27T13:05:10.212757Z",
     "start_time": "2021-08-27T13:05:09.926526Z"
    }
   },
   "outputs": [
    {
     "data": {
      "text/plain": [
       "<matplotlib.legend.Legend at 0x198d467bf10>"
      ]
     },
     "execution_count": 98,
     "metadata": {},
     "output_type": "execute_result"
    },
    {
     "data": {
      "image/png": "[encoded data removed]",
      "text/plain": [
       "<Figure size 432x288 with 1 Axes>"
      ]
     },
     "metadata": {
      "needs_background": "light"
     },
     "output_type": "display_data"
    }
   ],
   "source": [
    "plt.plot(ps,net_profits,label='net_profit_increas')\n",
    "plt.xlabel(\"threshold\")\n",
    "plt.legend(loc=\"lower right\")"
   ]
  },
  {
   "cell_type": "code",
   "execution_count": 99,
   "metadata": {
    "ExecuteTime": {
     "end_time": "2021-08-27T13:05:10.229711Z",
     "start_time": "2021-08-27T13:05:10.216746Z"
    }
   },
   "outputs": [
    {
     "data": {
      "text/plain": [
       "(0.02, 61878332.0)"
      ]
     },
     "execution_count": 99,
     "metadata": {},
     "output_type": "execute_result"
    }
   ],
   "source": [
    "ps[np.argmax(net_profits)],net_profits[2]"
   ]
  },
  {
   "cell_type": "code",
   "execution_count": 100,
   "metadata": {
    "ExecuteTime": {
     "end_time": "2021-08-27T13:05:12.066276Z",
     "start_time": "2021-08-27T13:05:10.233702Z"
    }
   },
   "outputs": [
    {
     "name": "stdout",
     "output_type": "stream",
     "text": [
      "              precision    recall  f1-score   support\n",
      "\n",
      "         0.0       0.94      1.00      0.97     36301\n",
      "         1.0       1.00      0.05      0.10      2296\n",
      "\n",
      "    accuracy                           0.94     38597\n",
      "   macro avg       0.97      0.53      0.53     38597\n",
      "weighted avg       0.95      0.94      0.92     38597\n",
      "\n",
      "              precision    recall  f1-score   support\n",
      "\n",
      "         0.0       0.94      1.00      0.97      6501\n",
      "         1.0       1.00      0.08      0.15       414\n",
      "\n",
      "    accuracy                           0.95      6915\n",
      "   macro avg       0.97      0.54      0.56      6915\n",
      "weighted avg       0.95      0.95      0.92      6915\n",
      "\n"
     ]
    }
   ],
   "source": [
    "#标准化+特征选择\n",
    "lr_clf_msa.fit(X_train_msa_sc_select, y_train_msa)\n",
    "result_msa = lr_clf_msa.predict(X_test_msa_sc_select)\n",
    "lr_clf_nmsa.fit(X_train_nmsa_sc_select, y_train_nmsa)\n",
    "result_nmsa = lr_clf_nmsa.predict(X_test_nmsa_sc_select)\n",
    "print(classification_report(y_test_msa,result_msa))\n",
    "print(classification_report(y_test_nmsa,result_nmsa))"
   ]
  },
  {
   "cell_type": "code",
   "execution_count": 101,
   "metadata": {
    "ExecuteTime": {
     "end_time": "2021-08-27T13:05:12.906029Z",
     "start_time": "2021-08-27T13:05:12.069267Z"
    }
   },
   "outputs": [
    {
     "name": "stderr",
     "output_type": "stream",
     "text": [
      "100%|███████████████████████████████████████████████████████████████████████████████| 100/100 [00:00<00:00, 124.09it/s]\n"
     ]
    }
   ],
   "source": [
    "ps = [i/100 for i in range(100)]\n",
    "errors = [] \n",
    "T1s = []\n",
    "T2s = []\n",
    "net_profits = []\n",
    "for i in trange(len(ps)):\n",
    "    p = ps[i]\n",
    "    y_pred_msa = np.where(lr_clf_msa.predict_proba(X_test_msa_sc_select)[:,1] > p, 1, 0)\n",
    "    y_pred_nmsa = np.where(lr_clf_nmsa.predict_proba(X_test_nmsa_sc_select)[:,1] > p, 1, 0)\n",
    "    tp_msa,fp_msa,fn_msa,tn_msa = compare(y_pred_msa, y_test_msa)\n",
    "    tp_nmsa,fp_nmsa,fn_nmsa,tn_nmsa = compare(y_pred_nmsa, y_test_nmsa) \n",
    "    net_profit = cal_net_profit(y_pred_msa, y_test_msa, test_data_msa) + cal_net_profit(y_pred_nmsa, y_test_nmsa, test_data_nmsa)\n",
    "    tp = tp_msa + tp_nmsa\n",
    "    fp = fp_msa + fp_nmsa\n",
    "    fn = fn_msa + fn_nmsa\n",
    "    tn = tn_msa + tn_nmsa\n",
    "    error = (fn+fp) / (tp+fp+fn+tn)\n",
    "    T1e = fp/(tn+fp)\n",
    "    T2e = fn/(fn+tp)\n",
    "    errors.append(error)\n",
    "    T1s.append(T1e)\n",
    "    T2s.append(T2e)\n",
    "    net_profits.append(net_profit-ori_net_profit)"
   ]
  },
  {
   "cell_type": "code",
   "execution_count": 102,
   "metadata": {
    "ExecuteTime": {
     "end_time": "2021-08-27T13:05:13.219042Z",
     "start_time": "2021-08-27T13:05:12.908025Z"
    }
   },
   "outputs": [
    {
     "data": {
      "text/plain": [
       "<matplotlib.legend.Legend at 0x198d46f2640>"
      ]
     },
     "execution_count": 102,
     "metadata": {},
     "output_type": "execute_result"
    },
    {
     "data": {
      "image/png": "[encoded data removed]",
      "text/plain": [
       "<Figure size 432x288 with 1 Axes>"
      ]
     },
     "metadata": {
      "needs_background": "light"
     },
     "output_type": "display_data"
    }
   ],
   "source": [
    "plt.plot(ps,T1s,label='Type1-error')\n",
    "plt.plot(ps,T2s,label='Type2-error')\n",
    "plt.plot(ps,errors,label='error-rate')\n",
    "plt.xlabel(\"threshold\")\n",
    "plt.legend(loc=\"lower right\")"
   ]
  },
  {
   "cell_type": "code",
   "execution_count": 103,
   "metadata": {
    "ExecuteTime": {
     "end_time": "2021-08-27T13:05:13.494769Z",
     "start_time": "2021-08-27T13:05:13.221037Z"
    }
   },
   "outputs": [
    {
     "data": {
      "text/plain": [
       "<matplotlib.legend.Legend at 0x198d475c6d0>"
      ]
     },
     "execution_count": 103,
     "metadata": {},
     "output_type": "execute_result"
    },
    {
     "data": {
      "image/png": "[encoded data removed]",
      "text/plain": [
       "<Figure size 432x288 with 1 Axes>"
      ]
     },
     "metadata": {
      "needs_background": "light"
     },
     "output_type": "display_data"
    }
   ],
   "source": [
    "plt.plot(ps,net_profits,label='net_profit_increas')\n",
    "plt.xlabel(\"threshold\")\n",
    "plt.legend(loc=\"lower right\")"
   ]
  },
  {
   "cell_type": "code",
   "execution_count": 105,
   "metadata": {
    "ExecuteTime": {
     "end_time": "2021-08-27T13:05:20.138321Z",
     "start_time": "2021-08-27T13:05:20.128348Z"
    }
   },
   "outputs": [
    {
     "data": {
      "text/plain": [
       "(0.02, 60062680.0)"
      ]
     },
     "execution_count": 105,
     "metadata": {},
     "output_type": "execute_result"
    }
   ],
   "source": [
    "ps[np.argmax(net_profits)],net_profits[2]"
   ]
  },
  {
   "cell_type": "markdown",
   "metadata": {},
   "source": [
    "## 4、DecisionTree"
   ]
  },
  {
   "cell_type": "code",
   "execution_count": 106,
   "metadata": {
    "ExecuteTime": {
     "end_time": "2021-08-27T13:14:16.936070Z",
     "start_time": "2021-08-27T13:14:12.035334Z"
    }
   },
   "outputs": [
    {
     "name": "stdout",
     "output_type": "stream",
     "text": [
      "              precision    recall  f1-score   support\n",
      "\n",
      "         0.0       0.95      0.94      0.94     36301\n",
      "         1.0       0.14      0.15      0.15      2296\n",
      "\n",
      "    accuracy                           0.90     38597\n",
      "   macro avg       0.54      0.55      0.55     38597\n",
      "weighted avg       0.90      0.90      0.90     38597\n",
      "\n",
      "              precision    recall  f1-score   support\n",
      "\n",
      "         0.0       0.95      0.95      0.95      6501\n",
      "         1.0       0.18      0.16      0.17       414\n",
      "\n",
      "    accuracy                           0.90      6915\n",
      "   macro avg       0.56      0.56      0.56      6915\n",
      "weighted avg       0.90      0.90      0.90      6915\n",
      "\n"
     ]
    }
   ],
   "source": [
    "tree_clf_msa = DecisionTreeClassifier(class_weight={0:1.0, 1:10})\n",
    "tree_clf_nmsa = DecisionTreeClassifier(class_weight={0:1.0, 1:10})\n",
    "\n",
    "tree_clf_msa.fit(X_train_msa_sc_select, y_train_msa)\n",
    "result_msa = tree_clf_msa.predict(X_test_msa_sc_select)\n",
    "tree_clf_nmsa.fit(X_train_nmsa_sc_select, y_train_nmsa)\n",
    "result_nmsa = tree_clf_nmsa.predict(X_test_nmsa_sc_select)\n",
    "print(classification_report(y_test_msa,result_msa))\n",
    "print(classification_report(y_test_nmsa,result_nmsa))"
   ]
  },
  {
   "cell_type": "code",
   "execution_count": 107,
   "metadata": {
    "ExecuteTime": {
     "end_time": "2021-08-27T13:21:54.912544Z",
     "start_time": "2021-08-27T13:19:35.943631Z"
    }
   },
   "outputs": [
    {
     "name": "stderr",
     "output_type": "stream",
     "text": [
      "100%|██████████████████████████████████████████████████████████████████████████████████| 19/19 [02:18<00:00,  7.31s/it]\n"
     ]
    }
   ],
   "source": [
    "weights = [i for i in range(10,200,10)]\n",
    "errors = [] \n",
    "T1s = []\n",
    "T2s = []\n",
    "net_profits = []\n",
    "for i in trange(len(weights)):\n",
    "    weight = {0:1.0, 1:weights[i]}\n",
    "    tree_clf_msa = DecisionTreeClassifier(class_weight=weight)\n",
    "    tree_clf_nmsa = DecisionTreeClassifier(class_weight=weight)\n",
    "    tree_clf_msa.fit(X_train_msa_sc_select, y_train_msa)\n",
    "    y_pred_msa = tree_clf_msa.predict(X_test_msa_sc_select)\n",
    "    tree_clf_nmsa.fit(X_train_nmsa_sc_select, y_train_nmsa)\n",
    "    y_pred_nmsa = tree_clf_nmsa.predict(X_test_nmsa_sc_select)\n",
    "    tp_msa,fp_msa,fn_msa,tn_msa = compare(y_pred_msa, y_test_msa)\n",
    "    tp_nmsa,fp_nmsa,fn_nmsa,tn_nmsa = compare(y_pred_nmsa, y_test_nmsa) \n",
    "    net_profit = cal_net_profit(y_pred_msa, y_test_msa, test_data_msa) + cal_net_profit(y_pred_nmsa, y_test_nmsa, test_data_nmsa)\n",
    "    tp = tp_msa + tp_nmsa\n",
    "    fp = fp_msa + fp_nmsa\n",
    "    fn = fn_msa + fn_nmsa\n",
    "    tn = tn_msa + tn_nmsa\n",
    "    error = (fn+fp) / (tp+fp+fn+tn)\n",
    "    T1e = fp/(tn+fp)\n",
    "    T2e = fn/(fn+tp)\n",
    "    errors.append(error)\n",
    "    T1s.append(T1e)\n",
    "    T2s.append(T2e)\n",
    "    net_profits.append(net_profit-ori_net_profit)"
   ]
  },
  {
   "cell_type": "code",
   "execution_count": 108,
   "metadata": {
    "ExecuteTime": {
     "end_time": "2021-08-27T13:23:16.191450Z",
     "start_time": "2021-08-27T13:23:16.030256Z"
    }
   },
   "outputs": [
    {
     "data": {
      "text/plain": [
       "<matplotlib.legend.Legend at 0x198cc00d130>"
      ]
     },
     "execution_count": 108,
     "metadata": {},
     "output_type": "execute_result"
    },
    {
     "data": {
      "image/png": "[encoded data removed]",
      "text/plain": [
       "<Figure size 432x288 with 1 Axes>"
      ]
     },
     "metadata": {
      "needs_background": "light"
     },
     "output_type": "display_data"
    }
   ],
   "source": [
    "plt.plot(weights,T1s,label='Type1-error')\n",
    "plt.plot(weights,T2s,label='Type2-error')\n",
    "plt.plot(weights,errors,label='error-rate')\n",
    "plt.xlabel(\"weights\")\n",
    "plt.legend(loc=\"lower right\")"
   ]
  },
  {
   "cell_type": "code",
   "execution_count": 109,
   "metadata": {
    "ExecuteTime": {
     "end_time": "2021-08-27T13:23:16.459195Z",
     "start_time": "2021-08-27T13:23:16.294603Z"
    }
   },
   "outputs": [
    {
     "data": {
      "text/plain": [
       "<matplotlib.legend.Legend at 0x198d47e9880>"
      ]
     },
     "execution_count": 109,
     "metadata": {},
     "output_type": "execute_result"
    },
    {
     "data": {
      "image/png": "[encoded data removed]",
      "text/plain": [
       "<Figure size 432x288 with 1 Axes>"
      ]
     },
     "metadata": {
      "needs_background": "light"
     },
     "output_type": "display_data"
    }
   ],
   "source": [
    "plt.plot(weights,net_profits,label='net_profit_increase')\n",
    "plt.xlabel(\"weights\")\n",
    "plt.legend(loc=\"lower right\")"
   ]
  },
  {
   "cell_type": "markdown",
   "metadata": {},
   "source": [
    "## 5、RandomForest"
   ]
  },
  {
   "cell_type": "code",
   "execution_count": 111,
   "metadata": {
    "ExecuteTime": {
     "end_time": "2021-08-27T13:30:32.104576Z",
     "start_time": "2021-08-27T13:28:44.709131Z"
    }
   },
   "outputs": [
    {
     "name": "stdout",
     "output_type": "stream",
     "text": [
      "              precision    recall  f1-score   support\n",
      "\n",
      "         0.0       0.94      1.00      0.97     36301\n",
      "         1.0       0.98      0.05      0.10      2296\n",
      "\n",
      "    accuracy                           0.94     38597\n",
      "   macro avg       0.96      0.53      0.54     38597\n",
      "weighted avg       0.95      0.94      0.92     38597\n",
      "\n",
      "              precision    recall  f1-score   support\n",
      "\n",
      "         0.0       0.95      1.00      0.97      6501\n",
      "         1.0       0.97      0.09      0.16       414\n",
      "\n",
      "    accuracy                           0.95      6915\n",
      "   macro avg       0.96      0.54      0.57      6915\n",
      "weighted avg       0.95      0.95      0.92      6915\n",
      "\n"
     ]
    }
   ],
   "source": [
    "rf_clf_msa = RandomForestClassifier()\n",
    "rf_clf_nmsa = RandomForestClassifier()\n",
    "\n",
    "rf_clf_msa.fit(X_train_msa_sc_select, y_train_msa)\n",
    "result_msa = rf_clf_msa.predict(X_test_msa_sc_select)\n",
    "rf_clf_nmsa.fit(X_train_nmsa_sc_select, y_train_nmsa)\n",
    "result_nmsa = rf_clf_nmsa.predict(X_test_nmsa_sc_select)\n",
    "print(classification_report(y_test_msa,result_msa))\n",
    "print(classification_report(y_test_nmsa,result_nmsa))"
   ]
  },
  {
   "cell_type": "code",
   "execution_count": 115,
   "metadata": {
    "ExecuteTime": {
     "end_time": "2021-08-27T15:03:11.903936Z",
     "start_time": "2021-08-27T14:22:04.835581Z"
    }
   },
   "outputs": [
    {
     "name": "stderr",
     "output_type": "stream",
     "text": [
      "100%|█████████████████████████████████████████████████████████████████████████████████| 19/19 [41:07<00:00, 129.84s/it]\n"
     ]
    }
   ],
   "source": [
    "weights = [i for i in range(10,200,10)]\n",
    "errors = [] \n",
    "T1s = []\n",
    "T2s = []\n",
    "net_profits = []\n",
    "for i in trange(len(weights)):\n",
    "    weight = {0:1.0, 1:weights[i]}\n",
    "    rf_clf_msa = RandomForestClassifier(class_weight=weight)\n",
    "    rf_clf_nmsa = RandomForestClassifier(class_weight=weight)\n",
    "    rf_clf_msa.fit(X_train_msa_sc_select, y_train_msa)\n",
    "    y_pred_msa = rf_clf_msa.predict(X_test_msa_sc_select)\n",
    "    rf_clf_nmsa.fit(X_train_nmsa_sc_select, y_train_nmsa)\n",
    "    y_pred_nmsa = rf_clf_nmsa.predict(X_test_nmsa_sc_select)\n",
    "    tp_msa,fp_msa,fn_msa,tn_msa = compare(y_pred_msa, y_test_msa)\n",
    "    tp_nmsa,fp_nmsa,fn_nmsa,tn_nmsa = compare(y_pred_nmsa, y_test_nmsa) \n",
    "    net_profit = cal_net_profit(y_pred_msa, y_test_msa, test_data_msa) + cal_net_profit(y_pred_nmsa, y_test_nmsa, test_data_nmsa)\n",
    "    tp = tp_msa + tp_nmsa\n",
    "    fp = fp_msa + fp_nmsa\n",
    "    fn = fn_msa + fn_nmsa\n",
    "    tn = tn_msa + tn_nmsa\n",
    "    error = (fn+fp) / (tp+fp+fn+tn)\n",
    "    T1e = fp/(tn+fp)\n",
    "    T2e = fn/(fn+tp)\n",
    "    errors.append(error)\n",
    "    T1s.append(T1e)\n",
    "    T2s.append(T2e)\n",
    "    net_profits.append(net_profit-ori_net_profit)"
   ]
  },
  {
   "cell_type": "code",
   "execution_count": 116,
   "metadata": {
    "ExecuteTime": {
     "end_time": "2021-08-27T15:03:12.106660Z",
     "start_time": "2021-08-27T15:03:11.906764Z"
    }
   },
   "outputs": [
    {
     "data": {
      "text/plain": [
       "<matplotlib.legend.Legend at 0x198e096c9d0>"
      ]
     },
     "execution_count": 116,
     "metadata": {},
     "output_type": "execute_result"
    },
    {
     "data": {
      "image/png": "[encoded data removed]",
      "text/plain": [
       "<Figure size 432x288 with 1 Axes>"
      ]
     },
     "metadata": {
      "needs_background": "light"
     },
     "output_type": "display_data"
    }
   ],
   "source": [
    "plt.plot(weights,T1s,label='Type1-error')\n",
    "plt.plot(weights,T2s,label='Type2-error')\n",
    "plt.plot(weights,errors,label='error-rate')\n",
    "plt.xlabel(\"weights\")\n",
    "plt.legend(loc=\"lower right\")"
   ]
  },
  {
   "cell_type": "code",
   "execution_count": 117,
   "metadata": {
    "ExecuteTime": {
     "end_time": "2021-08-27T15:03:12.308635Z",
     "start_time": "2021-08-27T15:03:12.110165Z"
    }
   },
   "outputs": [
    {
     "data": {
      "text/plain": [
       "<matplotlib.legend.Legend at 0x198daec3e50>"
      ]
     },
     "execution_count": 117,
     "metadata": {},
     "output_type": "execute_result"
    },
    {
     "data": {
      "image/png": "[encoded data removed]",
      "text/plain": [
       "<Figure size 432x288 with 1 Axes>"
      ]
     },
     "metadata": {
      "needs_background": "light"
     },
     "output_type": "display_data"
    }
   ],
   "source": [
    "plt.plot(weights,net_profits,label='net_profit_increase')\n",
    "plt.xlabel(\"weights\")\n",
    "plt.legend(loc=\"lower right\")"
   ]
  }
 ],
 "metadata": {
  "kernelspec": {
   "display_name": "Python 3",
   "language": "python",
   "name": "python3"
  },
  "language_info": {
   "codemirror_mode": {
    "name": "ipython",
    "version": 3
   },
   "file_extension": ".py",
   "mimetype": "text/x-python",
   "name": "python",
   "nbconvert_exporter": "python",
   "pygments_lexer": "ipython3",
   "version": "3.8.5"
  }
 },
 "nbformat": 4,
 "nbformat_minor": 5
}
